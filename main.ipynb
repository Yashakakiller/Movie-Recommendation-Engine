{
 "cells": [
  {
   "cell_type": "markdown",
   "metadata": {},
   "source": [
    "Import Necessary Libraries"
   ]
  },
  {
   "cell_type": "code",
   "execution_count": null,
   "metadata": {},
   "outputs": [],
   "source": [
    "import numpy as np\n",
    "import pandas as pd\n",
    "from sklearn.feature_extraction.text import TfidfVectorizer\n",
    "from sklearn.metrics.pairwise import cosine_similarity"
   ]
  },
  {
   "cell_type": "markdown",
   "metadata": {},
   "source": [
    "Reading Dataset"
   ]
  },
  {
   "cell_type": "code",
   "execution_count": null,
   "metadata": {},
   "outputs": [],
   "source": [
    "# Load movie data\n",
    "movies_data = pd.read_csv('movies.csv')"
   ]
  },
  {
   "cell_type": "markdown",
   "metadata": {},
   "source": [
    "Handling Null Values\n",
    "\n",
    "Also converting values to lower string for convienice"
   ]
  },
  {
   "cell_type": "code",
   "execution_count": null,
   "metadata": {},
   "outputs": [],
   "source": [
    "selected_features = ['genres', 'title', 'cast', 'release_date']\n",
    "for feature in selected_features:\n",
    "    if feature != 'release_date':\n",
    "        movies_data[feature] = movies_data[feature].fillna(' ').str.lower()"
   ]
  },
  {
   "cell_type": "markdown",
   "metadata": {},
   "source": [
    "Getting the Movie Name"
   ]
  },
  {
   "cell_type": "code",
   "execution_count": null,
   "metadata": {},
   "outputs": [],
   "source": [
    "movieName = input(\"Enter movie name: \").lower()\n",
    "\n",
    "\n",
    "# Filter DataFrame based on user input movie name\n",
    "movie_row = movies_data[movies_data['title'] == movieName]"
   ]
  },
  {
   "cell_type": "markdown",
   "metadata": {},
   "source": [
    "Recommending Movies"
   ]
  },
  {
   "cell_type": "code",
   "execution_count": null,
   "metadata": {},
   "outputs": [],
   "source": [
    "# Check if movie exists in the database\n",
    "if not movie_row.empty:\n",
    "    # Retrieve genre and cast for the input movie\n",
    "    userGenres = movie_row['genres'].iloc[0]\n",
    "    userCast = movie_row['cast'].iloc[0]\n",
    "\n",
    "    # TF-IDF vectorization\n",
    "    vectorizer = TfidfVectorizer()\n",
    "    tfidf_matrix = vectorizer.fit_transform(movies_data['genres'] + ' ' + movies_data['cast'])\n",
    "\n",
    "    # Compute cosine similarity between input movie and all other movies\n",
    "    cosine_sim = cosine_similarity(tfidf_matrix[movie_row.index], tfidf_matrix)\n",
    "\n",
    "    # Get indices of movies with highest similarity scores\n",
    "    similar_movies_indices = cosine_sim.argsort()[0][::-1]\n",
    "\n",
    "    # Print recommended movies\n",
    "    print(\"Recommended movies similar to '{}' based on genres and cast:\".format(movieName.capitalize()))\n",
    "    for index, a in enumerate(similar_movies_indices[1:31], start=1):  # Exclude the input movie itself\n",
    "        print(f\"{index}. {movies_data['title'].iloc[a]}\")\n",
    "\n",
    "else:\n",
    "    print(\"Movie '{}' not found.\".format(movieName.capitalize()))\n",
    "\n",
    "    # Offer user options\n",
    "    print(\"\\nWhat would you like to do next?\")\n",
    "    print(\"1. Explore movies in a specific genre.\")\n",
    "    print(\"2. Get random movie recommendations.\")\n",
    "    choice = input(\"Enter your choice (1 or 2): \")\n",
    "\n",
    "    if choice == '1':\n",
    "        # Offer options to explore genres\n",
    "        print(\"\\nEnter the genre you're interested in:\")\n",
    "        user_genre = input().lower().strip()\n",
    "\n",
    "        # Filter movies by user entered genre\n",
    "        genre_filtered_movies = movies_data[movies_data['genres'].str.contains(user_genre)]\n",
    "        if not genre_filtered_movies.empty:\n",
    "            print(\"\\nHere are some movies related to the genre '{}' for you:\".format(user_genre))\n",
    "            print(genre_filtered_movies['title'].sample(10).to_string(index=False))  # Display 10 random movies\n",
    "        else:\n",
    "            print(\"No movies found for the genre '{}'.\".format(user_genre))\n",
    "\n",
    "    elif choice == '2':\n",
    "        # Offer random recommendations\n",
    "        print(\"\\nHere are some random movie recommendations for you:\")\n",
    "        print(movies_data['title'].sample(10).to_string(index=False))  # Display 10 random movies\n",
    "\n",
    "    else:\n",
    "        print(\"Invalid choice. Please try again.\")"
   ]
  }
 ],
 "metadata": {
  "kernelspec": {
   "display_name": "base",
   "language": "python",
   "name": "python3"
  },
  "language_info": {
   "codemirror_mode": {
    "name": "ipython",
    "version": 3
   },
   "file_extension": ".py",
   "mimetype": "text/x-python",
   "name": "python",
   "nbconvert_exporter": "python",
   "pygments_lexer": "ipython3",
   "version": "3.11.7"
  }
 },
 "nbformat": 4,
 "nbformat_minor": 2
}
